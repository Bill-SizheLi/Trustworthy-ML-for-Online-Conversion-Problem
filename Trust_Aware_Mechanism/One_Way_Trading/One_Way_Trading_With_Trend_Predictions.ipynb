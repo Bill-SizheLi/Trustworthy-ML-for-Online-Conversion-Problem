{
 "cells": [
  {
   "cell_type": "markdown",
   "metadata": {},
   "source": [
    "# Trust-Aware Mechanism"
   ]
  },
  {
   "cell_type": "markdown",
   "metadata": {},
   "source": [
    "## One-Way Trading (with Directional Movement Predictions)"
   ]
  },
  {
   "cell_type": "markdown",
   "metadata": {},
   "source": [
    "### Step 1: Load Prediction Results from ML Models"
   ]
  },
  {
   "cell_type": "code",
   "execution_count": 1,
   "metadata": {},
   "outputs": [],
   "source": [
    "import pandas as pd\n",
    "\n",
    "df = pd.read_excel('results of trend prediction.xlsx')"
   ]
  },
  {
   "cell_type": "code",
   "execution_count": 2,
   "metadata": {},
   "outputs": [
    {
     "data": {
      "text/html": [
       "<div>\n",
       "<style scoped>\n",
       "    .dataframe tbody tr th:only-of-type {\n",
       "        vertical-align: middle;\n",
       "    }\n",
       "\n",
       "    .dataframe tbody tr th {\n",
       "        vertical-align: top;\n",
       "    }\n",
       "\n",
       "    .dataframe thead th {\n",
       "        text-align: right;\n",
       "    }\n",
       "</style>\n",
       "<table border=\"1\" class=\"dataframe\">\n",
       "  <thead>\n",
       "    <tr style=\"text-align: right;\">\n",
       "      <th></th>\n",
       "      <th>date</th>\n",
       "      <th>close</th>\n",
       "      <th>xgboost_preds</th>\n",
       "      <th>transformer_preds</th>\n",
       "      <th>vae_preds</th>\n",
       "    </tr>\n",
       "  </thead>\n",
       "  <tbody>\n",
       "    <tr>\n",
       "      <th>0</th>\n",
       "      <td>2022-09-29</td>\n",
       "      <td>3.894</td>\n",
       "      <td>1</td>\n",
       "      <td>1</td>\n",
       "      <td>0</td>\n",
       "    </tr>\n",
       "    <tr>\n",
       "      <th>1</th>\n",
       "      <td>2022-09-30</td>\n",
       "      <td>3.868</td>\n",
       "      <td>1</td>\n",
       "      <td>1</td>\n",
       "      <td>0</td>\n",
       "    </tr>\n",
       "    <tr>\n",
       "      <th>2</th>\n",
       "      <td>2022-10-10</td>\n",
       "      <td>3.789</td>\n",
       "      <td>1</td>\n",
       "      <td>1</td>\n",
       "      <td>1</td>\n",
       "    </tr>\n",
       "    <tr>\n",
       "      <th>3</th>\n",
       "      <td>2022-10-11</td>\n",
       "      <td>3.786</td>\n",
       "      <td>1</td>\n",
       "      <td>1</td>\n",
       "      <td>1</td>\n",
       "    </tr>\n",
       "    <tr>\n",
       "      <th>4</th>\n",
       "      <td>2022-10-12</td>\n",
       "      <td>3.848</td>\n",
       "      <td>1</td>\n",
       "      <td>1</td>\n",
       "      <td>1</td>\n",
       "    </tr>\n",
       "  </tbody>\n",
       "</table>\n",
       "</div>"
      ],
      "text/plain": [
       "        date  close  xgboost_preds  transformer_preds  vae_preds\n",
       "0 2022-09-29  3.894              1                  1          0\n",
       "1 2022-09-30  3.868              1                  1          0\n",
       "2 2022-10-10  3.789              1                  1          1\n",
       "3 2022-10-11  3.786              1                  1          1\n",
       "4 2022-10-12  3.848              1                  1          1"
      ]
     },
     "execution_count": 2,
     "metadata": {},
     "output_type": "execute_result"
    }
   ],
   "source": [
    "df.head()"
   ]
  },
  {
   "cell_type": "code",
   "execution_count": 3,
   "metadata": {},
   "outputs": [
    {
     "data": {
      "text/html": [
       "<div>\n",
       "<style scoped>\n",
       "    .dataframe tbody tr th:only-of-type {\n",
       "        vertical-align: middle;\n",
       "    }\n",
       "\n",
       "    .dataframe tbody tr th {\n",
       "        vertical-align: top;\n",
       "    }\n",
       "\n",
       "    .dataframe thead th {\n",
       "        text-align: right;\n",
       "    }\n",
       "</style>\n",
       "<table border=\"1\" class=\"dataframe\">\n",
       "  <thead>\n",
       "    <tr style=\"text-align: right;\">\n",
       "      <th></th>\n",
       "      <th>date</th>\n",
       "      <th>close</th>\n",
       "      <th>xgboost_preds</th>\n",
       "      <th>transformer_preds</th>\n",
       "      <th>vae_preds</th>\n",
       "      <th>group</th>\n",
       "    </tr>\n",
       "  </thead>\n",
       "  <tbody>\n",
       "    <tr>\n",
       "      <th>0</th>\n",
       "      <td>2022-09-29</td>\n",
       "      <td>3.894</td>\n",
       "      <td>1</td>\n",
       "      <td>1</td>\n",
       "      <td>0</td>\n",
       "      <td>0</td>\n",
       "    </tr>\n",
       "    <tr>\n",
       "      <th>1</th>\n",
       "      <td>2022-09-30</td>\n",
       "      <td>3.868</td>\n",
       "      <td>1</td>\n",
       "      <td>1</td>\n",
       "      <td>0</td>\n",
       "      <td>0</td>\n",
       "    </tr>\n",
       "    <tr>\n",
       "      <th>2</th>\n",
       "      <td>2022-10-10</td>\n",
       "      <td>3.789</td>\n",
       "      <td>1</td>\n",
       "      <td>1</td>\n",
       "      <td>1</td>\n",
       "      <td>0</td>\n",
       "    </tr>\n",
       "    <tr>\n",
       "      <th>3</th>\n",
       "      <td>2022-10-11</td>\n",
       "      <td>3.786</td>\n",
       "      <td>1</td>\n",
       "      <td>1</td>\n",
       "      <td>1</td>\n",
       "      <td>0</td>\n",
       "    </tr>\n",
       "    <tr>\n",
       "      <th>4</th>\n",
       "      <td>2022-10-12</td>\n",
       "      <td>3.848</td>\n",
       "      <td>1</td>\n",
       "      <td>1</td>\n",
       "      <td>1</td>\n",
       "      <td>0</td>\n",
       "    </tr>\n",
       "    <tr>\n",
       "      <th>5</th>\n",
       "      <td>2022-10-13</td>\n",
       "      <td>3.815</td>\n",
       "      <td>1</td>\n",
       "      <td>0</td>\n",
       "      <td>0</td>\n",
       "      <td>0</td>\n",
       "    </tr>\n",
       "    <tr>\n",
       "      <th>6</th>\n",
       "      <td>2022-10-14</td>\n",
       "      <td>3.903</td>\n",
       "      <td>1</td>\n",
       "      <td>1</td>\n",
       "      <td>1</td>\n",
       "      <td>0</td>\n",
       "    </tr>\n",
       "    <tr>\n",
       "      <th>7</th>\n",
       "      <td>2022-10-17</td>\n",
       "      <td>3.902</td>\n",
       "      <td>0</td>\n",
       "      <td>0</td>\n",
       "      <td>0</td>\n",
       "      <td>0</td>\n",
       "    </tr>\n",
       "    <tr>\n",
       "      <th>8</th>\n",
       "      <td>2022-10-18</td>\n",
       "      <td>3.895</td>\n",
       "      <td>1</td>\n",
       "      <td>0</td>\n",
       "      <td>1</td>\n",
       "      <td>0</td>\n",
       "    </tr>\n",
       "    <tr>\n",
       "      <th>9</th>\n",
       "      <td>2022-10-19</td>\n",
       "      <td>3.836</td>\n",
       "      <td>0</td>\n",
       "      <td>0</td>\n",
       "      <td>1</td>\n",
       "      <td>0</td>\n",
       "    </tr>\n",
       "    <tr>\n",
       "      <th>10</th>\n",
       "      <td>2022-10-20</td>\n",
       "      <td>3.824</td>\n",
       "      <td>1</td>\n",
       "      <td>0</td>\n",
       "      <td>1</td>\n",
       "      <td>1</td>\n",
       "    </tr>\n",
       "    <tr>\n",
       "      <th>11</th>\n",
       "      <td>2022-10-21</td>\n",
       "      <td>3.802</td>\n",
       "      <td>0</td>\n",
       "      <td>0</td>\n",
       "      <td>1</td>\n",
       "      <td>1</td>\n",
       "    </tr>\n",
       "  </tbody>\n",
       "</table>\n",
       "</div>"
      ],
      "text/plain": [
       "         date  close  xgboost_preds  transformer_preds  vae_preds  group\n",
       "0  2022-09-29  3.894              1                  1          0      0\n",
       "1  2022-09-30  3.868              1                  1          0      0\n",
       "2  2022-10-10  3.789              1                  1          1      0\n",
       "3  2022-10-11  3.786              1                  1          1      0\n",
       "4  2022-10-12  3.848              1                  1          1      0\n",
       "5  2022-10-13  3.815              1                  0          0      0\n",
       "6  2022-10-14  3.903              1                  1          1      0\n",
       "7  2022-10-17  3.902              0                  0          0      0\n",
       "8  2022-10-18  3.895              1                  0          1      0\n",
       "9  2022-10-19  3.836              0                  0          1      0\n",
       "10 2022-10-20  3.824              1                  0          1      1\n",
       "11 2022-10-21  3.802              0                  0          1      1"
      ]
     },
     "execution_count": 3,
     "metadata": {},
     "output_type": "execute_result"
    }
   ],
   "source": [
    "df['group'] = df.index // 10\n",
    "df.head(12)"
   ]
  },
  {
   "cell_type": "markdown",
   "metadata": {},
   "source": [
    "### Step 2: Online or Learning-Augmented Algorithms"
   ]
  },
  {
   "cell_type": "code",
   "execution_count": 4,
   "metadata": {},
   "outputs": [],
   "source": [
    "import numpy as np\n",
    "from scipy.special import lambertw\n",
    "\n",
    "def get_optimal_threshold(L, U):\n",
    "    theta = U / L\n",
    "    alpha_star = 1 + lambertw((theta - 1) / np.e).real\n",
    "\n",
    "    def threshold(w):\n",
    "        return L + (alpha_star * L - L) * np.exp(alpha_star * w)\n",
    "\n",
    "    return threshold"
   ]
  },
  {
   "cell_type": "code",
   "execution_count": 5,
   "metadata": {},
   "outputs": [],
   "source": [
    "threshold_function = get_optimal_threshold(3, 5)\n",
    "# print(threshold_function(0.5))"
   ]
  },
  {
   "cell_type": "code",
   "execution_count": 6,
   "metadata": {},
   "outputs": [],
   "source": [
    "import pandas as pd\n",
    "import numpy as np\n",
    "\n",
    "def approximate_inverse_phi(phi_func, v, precision=0.001, max_iter=1000):\n",
    "    w = 0.0\n",
    "    for _ in range(max_iter):\n",
    "        current_phi = phi_func(w)\n",
    "        if abs(current_phi - v) < precision:\n",
    "            return w\n",
    "        if current_phi > v:\n",
    "            return max(0.0, w - precision)\n",
    "        w += precision\n",
    "    return 1.0\n",
    "\n",
    "def one_way_trading(df, phi_func):\n",
    "    results = []\n",
    "    grouped = df.groupby('group')\n",
    "\n",
    "    for group_id, group in grouped:\n",
    "        stock_left = 1.0\n",
    "        converted = 0.0\n",
    "        total_reward = 0.0\n",
    "\n",
    "        for idx, row in group.iterrows():\n",
    "            price = row['close']\n",
    "\n",
    "            if price < phi_func(0):\n",
    "                continue\n",
    "\n",
    "            w_target = approximate_inverse_phi(phi_func, price)\n",
    "            convert_amount = min(stock_left, w_target - converted)\n",
    "\n",
    "            if convert_amount > 0:\n",
    "                total_reward += convert_amount * price\n",
    "                converted += convert_amount\n",
    "                stock_left -= convert_amount\n",
    "\n",
    "            if stock_left <= 0:\n",
    "                break\n",
    "\n",
    "        # force sell remaining stock at last day's close price\n",
    "        if stock_left > 0:\n",
    "            last_price = group.iloc[-1]['close']\n",
    "            total_reward += stock_left * last_price\n",
    "            converted += stock_left\n",
    "            stock_left = 0.0\n",
    "\n",
    "        results.append({\n",
    "            'group': group_id,\n",
    "            'converted_amount': converted,\n",
    "            'reward': total_reward\n",
    "        })\n",
    "\n",
    "    return pd.DataFrame(results)"
   ]
  },
  {
   "cell_type": "code",
   "execution_count": 7,
   "metadata": {},
   "outputs": [
    {
     "name": "stdout",
     "output_type": "stream",
     "text": [
      "    group  converted_amount    reward\n",
      "0       0               1.0  3.855618\n",
      "1       1               1.0  3.759707\n",
      "2       2               1.0  3.863573\n",
      "3       3               1.0  3.900839\n",
      "4       4               1.0  3.993094\n",
      "..    ...               ...       ...\n",
      "56     56               1.0  3.967578\n",
      "57     57               1.0  4.032709\n",
      "58     58               1.0  4.044992\n",
      "59     59               1.0  4.017219\n",
      "60     60               1.0  4.000360\n",
      "\n",
      "[61 rows x 3 columns]\n"
     ]
    }
   ],
   "source": [
    "static_results = one_way_trading(df, threshold_function)\n",
    "print(static_results)"
   ]
  },
  {
   "cell_type": "code",
   "execution_count": 8,
   "metadata": {},
   "outputs": [],
   "source": [
    "def total_reward(results_df):\n",
    "    return results_df['reward'].sum()"
   ]
  },
  {
   "cell_type": "code",
   "execution_count": 9,
   "metadata": {},
   "outputs": [
    {
     "name": "stdout",
     "output_type": "stream",
     "text": [
      "Total reward: 230.81324100000003\n"
     ]
    }
   ],
   "source": [
    "reward = total_reward(static_results)\n",
    "print(\"Total reward:\", reward)"
   ]
  },
  {
   "cell_type": "code",
   "execution_count": 10,
   "metadata": {},
   "outputs": [],
   "source": [
    "def offline_optimal(df):\n",
    "    results = []\n",
    "    grouped = df.groupby('group')\n",
    "\n",
    "    for group_id, group in grouped:\n",
    "        max_price = group['close'].max()\n",
    "        reward = 1.0 * max_price  # fully convert at the peak\n",
    "        results.append({\n",
    "            'group': group_id,\n",
    "            'converted_amount': 1.0,\n",
    "            'reward': reward\n",
    "        })\n",
    "\n",
    "    return pd.DataFrame(results)"
   ]
  },
  {
   "cell_type": "code",
   "execution_count": 11,
   "metadata": {},
   "outputs": [
    {
     "name": "stdout",
     "output_type": "stream",
     "text": [
      "    group  converted_amount  reward\n",
      "0       0               1.0   3.903\n",
      "1       1               1.0   3.824\n",
      "2       2               1.0   3.925\n",
      "3       3               1.0   3.911\n",
      "4       4               1.0   4.058\n",
      "..    ...               ...     ...\n",
      "56     56               1.0   4.014\n",
      "57     57               1.0   4.075\n",
      "58     58               1.0   4.067\n",
      "59     59               1.0   4.109\n",
      "60     60               1.0   4.027\n",
      "\n",
      "[61 rows x 3 columns]\n"
     ]
    }
   ],
   "source": [
    "offline_df = offline_optimal(df)\n",
    "print(offline_df)"
   ]
  },
  {
   "cell_type": "code",
   "execution_count": 12,
   "metadata": {},
   "outputs": [
    {
     "name": "stdout",
     "output_type": "stream",
     "text": [
      "Offline optimal total reward: 234.90400000000002\n"
     ]
    }
   ],
   "source": [
    "print(\"Offline optimal total reward:\", total_reward(offline_df))"
   ]
  },
  {
   "cell_type": "code",
   "execution_count": 13,
   "metadata": {},
   "outputs": [],
   "source": [
    "import numpy as np\n",
    "import pandas as pd\n",
    "from copy import deepcopy\n",
    "\n",
    "def approximate_inverse_phi(phi_func, v, precision=0.001, max_iter=1000):\n",
    "    w = 0.0\n",
    "    for _ in range(max_iter):\n",
    "        current_phi = phi_func(w)\n",
    "        if abs(current_phi - v) < precision:\n",
    "            return w\n",
    "        if current_phi > v:\n",
    "            return max(0.0, w - precision)\n",
    "        w += precision\n",
    "    return 1.0\n",
    "\n",
    "def empirical_ota(df, phi_init_func, delta=0.05, predictor='transformer_preds', L=3, U=5):\n",
    "    results = []\n",
    "    grouped = df.groupby('group')\n",
    "\n",
    "    for group_id, group in grouped:\n",
    "        stock_left = 1.0\n",
    "        converted = 0.0\n",
    "        total_reward = 0.0\n",
    "\n",
    "        # initialize base threshold φ_0(w)\n",
    "        phi = phi_init_func\n",
    "\n",
    "        for i, row in group.iterrows():\n",
    "            v = row['close']\n",
    "            y_pred = row[predictor]\n",
    "            true_up = group.iloc[i+1]['close'] > v if i + 1 < len(group) else None  # for feedback\n",
    "\n",
    "            # backup φ' ← φ_{i-1}\n",
    "            phi_backup = deepcopy(phi)\n",
    "\n",
    "            # update threshold based on prediction\n",
    "            if y_pred == 1:  # predicted UP\n",
    "                phi = lambda w, phi=phi: min(phi(w) + delta, U)\n",
    "            elif y_pred == 0:  # predicted DOWN\n",
    "                phi = lambda w, phi=phi: max(phi(w) - delta, L)\n",
    "\n",
    "            # perform decision\n",
    "            if v >= phi(0):\n",
    "                w_target = approximate_inverse_phi(phi, v)\n",
    "                convert_amount = min(stock_left, w_target - converted)\n",
    "                if convert_amount > 0:\n",
    "                    total_reward += convert_amount * v\n",
    "                    stock_left -= convert_amount\n",
    "                    converted += convert_amount\n",
    "\n",
    "            # check prediction accuracy: rollback if wrong\n",
    "            if true_up is not None and ((true_up and y_pred == 0) or (not true_up and y_pred == 1)):\n",
    "                phi = phi_backup\n",
    "\n",
    "            if stock_left <= 0:\n",
    "                break\n",
    "\n",
    "        # forced convert remaining at last price\n",
    "        if stock_left > 0:\n",
    "            last_price = group.iloc[-1]['close']\n",
    "            total_reward += stock_left * last_price\n",
    "            converted += stock_left\n",
    "            stock_left = 0.0\n",
    "\n",
    "        results.append({\n",
    "            'group': group_id,\n",
    "            'converted_amount': converted,\n",
    "            'reward': total_reward\n",
    "        })\n",
    "\n",
    "    return pd.DataFrame(results)"
   ]
  },
  {
   "cell_type": "code",
   "execution_count": 14,
   "metadata": {},
   "outputs": [
    {
     "name": "stdout",
     "output_type": "stream",
     "text": [
      "Transformer OTA Total Reward: 231.292248\n"
     ]
    }
   ],
   "source": [
    "delta_transformer = 1\n",
    "\n",
    "# Transformer-based OTA\n",
    "ota_transformer = empirical_ota(df, threshold_function, delta=delta_transformer, predictor='transformer_preds')\n",
    "print(\"Transformer OTA Total Reward:\", ota_transformer['reward'].sum())"
   ]
  },
  {
   "cell_type": "code",
   "execution_count": 15,
   "metadata": {},
   "outputs": [],
   "source": [
    "def blindly_trust(df, predictor='transformer_preds'):\n",
    "    results = []\n",
    "    grouped = df.groupby('group')\n",
    "\n",
    "    for group_id, group in grouped:\n",
    "        stock_left = 1.0\n",
    "        total_reward = 0.0\n",
    "        sold = False\n",
    "\n",
    "        for i, row in group.iterrows():\n",
    "            price = row['close']\n",
    "            pred = row[predictor]\n",
    "\n",
    "            if pred == 0:\n",
    "                total_reward += stock_left * price\n",
    "                stock_left = 0.0\n",
    "                sold = True\n",
    "                break\n",
    "\n",
    "        if not sold:\n",
    "            last_price = group.iloc[-1]['close']\n",
    "            total_reward += stock_left * last_price\n",
    "            stock_left = 0.0\n",
    "\n",
    "        results.append({\n",
    "            'group': group_id,\n",
    "            'converted_amount': 1.0,\n",
    "            'reward': total_reward\n",
    "        })\n",
    "\n",
    "    return pd.DataFrame(results)"
   ]
  },
  {
   "cell_type": "code",
   "execution_count": 16,
   "metadata": {},
   "outputs": [
    {
     "name": "stdout",
     "output_type": "stream",
     "text": [
      "    group  converted_amount  reward\n",
      "0       0               1.0   3.815\n",
      "1       1               1.0   3.824\n",
      "2       2               1.0   3.707\n",
      "3       3               1.0   3.879\n",
      "4       4               1.0   3.956\n",
      "..    ...               ...     ...\n",
      "56     56               1.0   3.929\n",
      "57     57               1.0   4.004\n",
      "58     58               1.0   4.067\n",
      "59     59               1.0   4.094\n",
      "60     60               1.0   3.979\n",
      "\n",
      "[61 rows x 3 columns]\n",
      "Total blindly-trust reward: 230.52400000000003\n"
     ]
    }
   ],
   "source": [
    "trust_results = blindly_trust(df, predictor='transformer_preds')\n",
    "print(trust_results)\n",
    "print(\"Total blindly-trust reward:\", trust_results['reward'].sum())"
   ]
  },
  {
   "cell_type": "markdown",
   "metadata": {},
   "source": [
    "### Step 3: Visualization "
   ]
  },
  {
   "cell_type": "code",
   "execution_count": 17,
   "metadata": {},
   "outputs": [],
   "source": [
    "import matplotlib.pyplot as plt\n",
    "\n",
    "def plot_our_vs_blind(offline_df, ota_df, blind_df):\n",
    "    groups = offline_df['group']\n",
    "    \n",
    "    cum_offline = offline_df['reward'].cumsum()\n",
    "    cum_ota = ota_df['reward'].cumsum()\n",
    "    cum_blind = blind_df['reward'].cumsum()\n",
    "\n",
    "    ratio_ota = (cum_ota / cum_offline).fillna(0)\n",
    "    ratio_blind = (cum_blind / cum_offline).fillna(0)\n",
    "\n",
    "    plt.figure(figsize=(9, 5))\n",
    "    plt.plot(groups, ratio_ota, label=\"Our Algorithm\", linewidth=2, color='tab:blue')\n",
    "    plt.plot(groups, ratio_blind, label=\"Blindly Trust\", linewidth=2, color='tab:red')\n",
    "    \n",
    "    plt.xlabel(\"Group (Round)\")\n",
    "    plt.ylabel(\"Cumulative Online / Offline Reward\")\n",
    "    plt.title(\"Empirical Ratio: OTA vs Blindly Trust\")\n",
    "    plt.grid(True, linestyle='--', alpha=0.6)\n",
    "    plt.legend()\n",
    "    plt.tight_layout()\n",
    "    plt.show()"
   ]
  },
  {
   "cell_type": "code",
   "execution_count": 18,
   "metadata": {},
   "outputs": [
    {
     "data": {
      "image/png": "[encoded data removed]",
      "text/plain": [
       "<Figure size 900x500 with 1 Axes>"
      ]
     },
     "metadata": {},
     "output_type": "display_data"
    }
   ],
   "source": [
    "plot_our_vs_blind(offline_df, ota_transformer, trust_results)"
   ]
  }
 ],
 "metadata": {
  "kernelspec": {
   "display_name": "Python 3",
   "language": "python",
   "name": "python3"
  },
  "language_info": {
   "codemirror_mode": {
    "name": "ipython",
    "version": 3
   },
   "file_extension": ".py",
   "mimetype": "text/x-python",
   "name": "python",
   "nbconvert_exporter": "python",
   "pygments_lexer": "ipython3",
   "version": "3.9.13"
  }
 },
 "nbformat": 4,
 "nbformat_minor": 2
}
